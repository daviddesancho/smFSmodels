{
 "cells": [
  {
   "cell_type": "code",
   "execution_count": 4,
   "metadata": {
    "nbpresent": {
     "id": "fd29919c-4d19-4132-b23b-5258df819e89"
    }
   },
   "outputs": [
    {
     "name": "stdout",
     "output_type": "stream",
     "text": [
      "The autoreload extension is already loaded. To reload it, use:\n",
      "  %reload_ext autoreload\n"
     ]
    }
   ],
   "source": [
    "import matplotlib.pyplot as plt\n",
    "%matplotlib inline\n",
    "%load_ext autoreload\n",
    "%autoreload 2\n",
    "import h5py, sys\n",
    "import multiprocessing as mp\n",
    "import seaborn as sns\n",
    "sns.set(style=\"ticks\", color_codes=True, font_scale=1.5)\n",
    "sns.set_style({\"xtick.direction\": \"in\", \"ytick.direction\": \"in\"})"
   ]
  },
  {
   "cell_type": "code",
   "execution_count": 5,
   "metadata": {},
   "outputs": [],
   "source": [
    "import numpy as np\n",
    "import itertools\n",
    "from scipy.stats import norm\n",
    "import time\n",
    "pathtocossio = \"/Users/daviddesancho/Research/code/smFSmodels\"\n",
    "sys.path.append(pathtocossio)\n",
    "from smfsmodels import cossio\n",
    "import kinetics"
   ]
  },
  {
   "cell_type": "code",
   "execution_count": 6,
   "metadata": {},
   "outputs": [],
   "source": [
    "def pmf2d(xq, qk):\n",
    "    H, x_edges, y_edges = np.histogram2d(data[:,1],data[:,2], \\\n",
    "            bins=[np.linspace(-12,12,100), np.linspace(-12,12,100)])\n",
    "\n",
    "    fig, ax = plt.subplots(figsize=(6,5))\n",
    "    pmf = np.log(H.transpose())\n",
    "    pmf = pmf - np.max(pmf)\n",
    "    cs = ax.contourf(pmf, extent=[x_edges.min(), x_edges.max(), y_edges.min(), y_edges.max()], cmap=cm.rainbow, )\n",
    "    #pmf = -np.log(counts.transpose())\n",
    "    #pmf -= np.min(pmf)\n",
    "\n",
    "    \n",
    "    #cs = ax.contourf(counts.transpose()) #, \\\n",
    "            #extent=[xbins.min(), xbins.max(), ybins.min(), ybins.max()], \\\n",
    "            #cmap=cm.rainbow, levels=np.arange(0,10 ,1))\n",
    "    cbar = plt.colorbar(cs)\n",
    "    ax.set_xlim(-12,12)\n",
    "    ax.set_ylim(-12,12)\n",
    "    ax.set_xlabel('$x$', fontsize=20)\n",
    "    ax.set_ylabel('$q$', fontsize=20)\n",
    "    plt.tight_layout()"
   ]
  },
  {
   "cell_type": "code",
   "execution_count": 7,
   "metadata": {},
   "outputs": [],
   "source": [
    "def calc_rates(y):\n",
    "    lifeA, lifeB = kinetics.calc_life([y])\n",
    "    meanA = 1./np.exp(np.mean(np.log([x for x in lifeA if x>0])))\n",
    "    meanB = 1./np.exp(np.mean(np.log([x for x in lifeB if x>0])))\n",
    "    errorA = meanA/np.sqrt(len(lifeA))\n",
    "    errorB = meanA/np.sqrt(len(lifeB))\n",
    "    return np.mean([meanA, meanB]), np.mean([errorA, errorB])"
   ]
  },
  {
   "cell_type": "code",
   "execution_count": 8,
   "metadata": {},
   "outputs": [],
   "source": [
    "def cossio_runner(inp):\n",
    "    np.random.seed()\n",
    "    kl = inp[0]\n",
    "    sc = inp[1]\n",
    "    numsteps = inp[2]\n",
    "    \n",
    "    Dq = sc*Dx\n",
    "    x, q = [5., 5.]\n",
    "\n",
    "    tt, xk, qk = cossio.run_brownian(x0=x, barrier=5., kl=kl, \\\n",
    "                            Dx=Dx, Dq=Dq, numsteps=numsteps, \\\n",
    "                                     fwrite=int(1./dt))\n",
    "    data = np.column_stack((tt,xk,qk))\n",
    "\n",
    "    h5file = \"data/cossio_kl%g_Dx%g_Dq%g.h5\"%(kl, Dx, Dq)\n",
    "    with h5py.File(h5file, \"w\") as hf:\n",
    "        hf.create_dataset(\"data\", data=data)\n",
    "\n",
    "    return h5file"
   ]
  },
  {
   "cell_type": "code",
   "execution_count": 9,
   "metadata": {
    "nbpresent": {
     "id": "0890ed5e-0777-4a1f-a4c8-03e1dc1427c4"
    }
   },
   "outputs": [],
   "source": [
    "# Globals\n",
    "dt = 5e-4\n",
    "Dx = 1. # Diffusion coefficient for molecular coordinate"
   ]
  },
  {
   "cell_type": "markdown",
   "metadata": {},
   "source": [
    "### Molecular potential of mean force "
   ]
  },
  {
   "cell_type": "code",
   "execution_count": 10,
   "metadata": {},
   "outputs": [
    {
     "data": {
      "image/png": "[encoded data removed]",
      "text/plain": [
       "<Figure size 504x360 with 2 Axes>"
      ]
     },
     "metadata": {},
     "output_type": "display_data"
    }
   ],
   "source": [
    "x = np.linspace(-10,10,1000)\n",
    "fig, ax = plt.subplots(2,1, figsize=(7,5), sharex=True)\n",
    "Gx = [cossio.Gx(y, barrier=5.) for y in x]\n",
    "dGqxdx = [cossio.dGqxdx(0, y, barrier=5.) for y in x]\n",
    "ax[0].plot(x, Gx)\n",
    "ax[0].set_ylabel('$G(x)$', fontsize=20)\n",
    "ax[0].set_ylim(-1.1*5,0.5*5)\n",
    "\n",
    "ax[1].plot(x, dGqxdx)\n",
    "ax[1].set_xlabel('$x$', fontsize=20)\n",
    "ax[1].set_ylabel('$\\partial G(x)/\\partial x$', fontsize=20)\n",
    "ax[1].hlines(0, -10, 10, linestyle='dashed', linewidth=0.5)\n",
    "\n",
    "#ax[2].set_ylabel('$\\partial^2 G(x)/\\partial x^2$', fontsize=20)\n",
    "\n",
    "plt.tight_layout()"
   ]
  },
  {
   "cell_type": "markdown",
   "metadata": {},
   "source": [
    "### Diffusion on molecular coordinate"
   ]
  },
  {
   "cell_type": "code",
   "execution_count": 12,
   "metadata": {},
   "outputs": [
    {
     "name": "stdout",
     "output_type": "stream",
     "text": [
      "16.011715173721313\n"
     ]
    }
   ],
   "source": [
    "start = time.time()\n",
    "x, q = [5., 0.]\n",
    "t, xk, qk = cossio.run_brownian(x0=x, dt=dt, barrier=5., kl=0., \\\n",
    "                             Dx=Dx, numsteps=int(1e7), fwrite=int(1./dt))\n",
    "end = time.time()\n",
    "print (end - start)"
   ]
  },
  {
   "cell_type": "code",
   "execution_count": 13,
   "metadata": {
    "nbpresent": {
     "id": "bbc996a7-583e-4df8-9026-daa827bcdb29"
    }
   },
   "outputs": [
    {
     "data": {
      "text/plain": [
       "Text(0, 0.5, 'x')"
      ]
     },
     "execution_count": 13,
     "metadata": {},
     "output_type": "execute_result"
    },
    {
     "data": {
      "image/png": "[encoded data removed]",
      "text/plain": [
       "<Figure size 720x144 with 1 Axes>"
      ]
     },
     "metadata": {},
     "output_type": "display_data"
    }
   ],
   "source": [
    "fig, ax = plt.subplots(figsize=(10,2))\n",
    "ax.plot(xk, linewidth=0.5)\n",
    "ax.set_ylim(-10,10)\n",
    "ax.set_yticks([-5.,0,5.])\n",
    "ax.set_xlabel('time', fontsize=20)\n",
    "ax.set_ylabel('x', fontsize=20)"
   ]
  },
  {
   "cell_type": "code",
   "execution_count": 15,
   "metadata": {
    "scrolled": true
   },
   "outputs": [
    {
     "name": "stdout",
     "output_type": "stream",
     "text": [
      "[0.00175431 0.00090133]\n"
     ]
    }
   ],
   "source": [
    "rate0 = np.array(calc_rates(xk))\n",
    "print (rate0)"
   ]
  },
  {
   "cell_type": "code",
   "execution_count": 17,
   "metadata": {},
   "outputs": [
    {
     "data": {
      "text/plain": [
       "Text(0.5, 0, 'x')"
      ]
     },
     "execution_count": 17,
     "metadata": {},
     "output_type": "execute_result"
    },
    {
     "data": {
      "image/png": "[encoded data removed]",
      "text/plain": [
       "<Figure size 432x288 with 1 Axes>"
      ]
     },
     "metadata": {},
     "output_type": "display_data"
    }
   ],
   "source": [
    "fig, ax = plt.subplots()\n",
    "hist, bin_edges, patches = \\\n",
    "        ax.hist(xk, bins=np.arange(-10,10,0.25), density=True)\n",
    "ax.set_ylabel('P(x)')\n",
    "ax.set_xlabel('x')"
   ]
  },
  {
   "cell_type": "code",
   "execution_count": 18,
   "metadata": {},
   "outputs": [
    {
     "name": "stderr",
     "output_type": "stream",
     "text": [
      "<ipython-input-18-9609fcdf6522>:5: RuntimeWarning: divide by zero encountered in log\n",
      "  ax.plot(bin_centers, -np.log(hist), 'red', lw=4)\n"
     ]
    },
    {
     "data": {
      "image/png": "[encoded data removed]",
      "text/plain": [
       "<Figure size 432x288 with 1 Axes>"
      ]
     },
     "metadata": {},
     "output_type": "display_data"
    }
   ],
   "source": [
    "bin_centers = [0.5*(bin_edges[i]+bin_edges[i+1]) \\\n",
    "               for i in range(len(bin_edges)-1)]\n",
    "fig, ax = plt.subplots()\n",
    "ax.plot(bin_centers, [cossio.Gx(x) + 6.5   for x in bin_centers], lw=10)\n",
    "ax.plot(bin_centers, -np.log(hist), 'red', lw=4)\n",
    "ax.set_ylabel('$G(x)$', fontsize=20)\n",
    "ax.set_xlabel('$x$', fontsize=20)\n",
    "ax.set_ylim(0,10)\n",
    "plt.tight_layout()"
   ]
  },
  {
   "cell_type": "code",
   "execution_count": null,
   "metadata": {},
   "outputs": [],
   "source": [
    "input = [[0, 0, 1e8], [0.41, 1, 1e8], [0.41, 0.1, 1e8], [0.41, 0.01, 1e8]]\n",
    "\n",
    "nproc = 4\n",
    "pool = mp.Pool(processes=nproc)\n",
    "output = pool.map(cossio_runner, input)\n",
    "pool.close()\n",
    "pool.join()"
   ]
  },
  {
   "cell_type": "code",
   "execution_count": null,
   "metadata": {},
   "outputs": [],
   "source": [
    "h5file = output[0]\n",
    "f = h5py.File(h5file, 'r')\n",
    "data = np.array(f['data'])\n",
    "f.close()\n",
    "\n",
    "fig, ax = plt.subplots(2,1,figsize=(12,3), sharex=True,sharey=True)\n",
    "ax[0].plot(data[:,0],data[:,1],'.', markersize=1)\n",
    "ax[1].plot(data[:,0],data[:,2],'.', markersize=1)\n",
    "ax[1].set_ylim(-10,10)\n",
    "ax[1].set_xlim(0,5e4)\n",
    "\n",
    "plt.tight_layout(h_pad=0)"
   ]
  },
  {
   "cell_type": "code",
   "execution_count": null,
   "metadata": {},
   "outputs": [],
   "source": [
    "h5file = output[1]\n",
    "f = h5py.File(h5file, 'r')\n",
    "data = np.array(f['data'])\n",
    "f.close()\n",
    "\n",
    "fig, ax = plt.subplots(2,1,figsize=(12,3), sharex=True,sharey=True)\n",
    "ax[0].plot(data[:,0],data[:,1],'.', markersize=1)\n",
    "ax[1].plot(data[:,0],data[:,2],'.', markersize=1)\n",
    "ax[1].set_ylim(-10,10)\n",
    "ax[1].set_xlim(0,5e4)\n",
    "\n",
    "plt.tight_layout(h_pad=0)"
   ]
  },
  {
   "cell_type": "code",
   "execution_count": null,
   "metadata": {},
   "outputs": [],
   "source": [
    "h5file = output[2]\n",
    "f = h5py.File(h5file, 'r')\n",
    "data = np.array(f['data'])\n",
    "f.close()\n",
    "\n",
    "fig, ax = plt.subplots(2,1,figsize=(12,3), sharex=True,sharey=True)\n",
    "ax[0].plot(data[:,0],data[:,1],'.', markersize=1)\n",
    "ax[1].plot(data[:,0],data[:,2],'.', markersize=1)\n",
    "ax[1].set_ylim(-10,10)\n",
    "ax[1].set_xlim(0,5e4)\n",
    "\n",
    "plt.tight_layout(h_pad=0)"
   ]
  },
  {
   "cell_type": "code",
   "execution_count": null,
   "metadata": {},
   "outputs": [],
   "source": [
    "h5file = output[3]\n",
    "f = h5py.File(h5file, 'r')\n",
    "data = np.array(f['data'])\n",
    "f.close()\n",
    "\n",
    "fig, ax = plt.subplots(2,1,figsize=(12,3), sharex=True,sharey=True)\n",
    "ax[0].plot(data[:,0],data[:,1],'.', markersize=1)\n",
    "ax[1].plot(data[:,0],data[:,2],'.', markersize=1)\n",
    "ax[1].set_ylim(-10,10)\n",
    "ax[1].set_xlim(0,5e4)\n",
    "\n",
    "plt.tight_layout(h_pad=0)"
   ]
  },
  {
   "cell_type": "code",
   "execution_count": null,
   "metadata": {},
   "outputs": [],
   "source": [
    "lifetimes = []\n",
    "\n",
    "h5file = output[0]\n",
    "f = h5py.File(h5file, 'r')\n",
    "data = np.array(f['data'])\n",
    "f.close()\n",
    "tau_f, tau_u, data_f, data_u, tp_f, tp_u, recrossings = \\\n",
    "       kinetics.lifetimes(data[:,[0,1]], f_bound=-2, u_bound=2)\n",
    "lifetimes.append(tau_f + tau_u)\n",
    "\n",
    "for i in range(1,4):\n",
    "    h5file = output[i]\n",
    "    f = h5py.File(h5file, 'r')\n",
    "    data = np.array(f['data'])\n",
    "    f.close()\n",
    "    tau_f, tau_u, data_f, data_u, tp_f, tp_u, recrossings = \\\n",
    "        kinetics.lifetimes(data[:,[0,2]], f_bound=-2, u_bound=2)\n",
    "    lifetimes.append(tau_f + tau_u)"
   ]
  },
  {
   "cell_type": "code",
   "execution_count": null,
   "metadata": {},
   "outputs": [],
   "source": [
    "fig, ax = plt.subplots(4,1, figsize=(8,8), sharex=True)\n",
    "histogram, bin_edges, patches = ax[0].hist(np.log(lifetimes[0]), \\\n",
    "                   bins=np.linspace(0,10,20), \\\n",
    "                   normed=True, cumulative=False)\n",
    "\n",
    "histogram, bin_edges, patches = ax[1].hist(np.log(lifetimes[1]), \\\n",
    "                   bins=np.linspace(0,10,20), \\\n",
    "                   normed=True, cumulative=False)\n",
    "\n",
    "histogram, bin_edges, patches = ax[2].hist(np.log(lifetimes[2]), \\\n",
    "            bins=np.linspace(0,10,20), \\\n",
    "            normed=True, cumulative=False)\n",
    "\n",
    "histogram, bin_edges, patches = ax[3].hist(np.log(lifetimes[3]), \\\n",
    "            bins=np.linspace(0,10,20), \\\n",
    "            normed=True, cumulative=False)"
   ]
  },
  {
   "cell_type": "code",
   "execution_count": null,
   "metadata": {},
   "outputs": [],
   "source": [
    "print [len(x) for x in lifetimes]"
   ]
  },
  {
   "cell_type": "code",
   "execution_count": null,
   "metadata": {},
   "outputs": [],
   "source": [
    "from scipy.stats import expon\n",
    "from scipy.stats import norm\n",
    "\n",
    "fig, ax = plt.subplots(2,1)\n",
    "histogram, bin_edges, patches = \\\n",
    "        ax[0].hist(lifetimes, \\\n",
    "                   bins=np.linspace(0,np.max(lifetimes),10), normed=True, cumulative=False)\n",
    "ax[0].set_xlabel(r'$\\tau$')\n",
    "\n",
    "param = expon.fit(lifetimes, floc=0)\n",
    "print param\n",
    "x = np.linspace(0,np.max(lifetimes),200)\n",
    "ax[0].plot(x, expon.pdf(x, loc=param[0], scale=param[1]), color='lightblue', lw=3)\n",
    "#ax[0].set_yticks([0, 0.0004, 0.0008])\n",
    "\n",
    "histogram, bin_edges, patches = \\\n",
    "        ax[1].hist([np.log(x) for x in lifetimes if x > 0], \\\n",
    "                   bins=np.linspace(0,12,25), normed=True)\n",
    "ax[1].set_xlabel(r'ln($\\tau$)')\n",
    "lx = np.linspace(0,np.log(np.max(lifetimes)),2000)\n",
    "pdf = 1/param[1]*np.exp(lx)*np.exp(-1/param[1]*(np.exp(lx)))\n",
    "ax[1].plot(lx, pdf, color='lightblue', lw=3)\n",
    "ax[1].set_xlim(2,12)\n",
    "#ax[1].set_ylim(0,0.4)\n",
    "#ax[1].set_yticks([0,0.2,0.4])\n",
    "plt.tight_layout()"
   ]
  },
  {
   "cell_type": "code",
   "execution_count": null,
   "metadata": {},
   "outputs": [],
   "source": []
  }
 ],
 "metadata": {
  "anaconda-cloud": {},
  "kernelspec": {
   "display_name": "Python 3",
   "language": "python",
   "name": "python3"
  },
  "language_info": {
   "codemirror_mode": {
    "name": "ipython",
    "version": 3
   },
   "file_extension": ".py",
   "mimetype": "text/x-python",
   "name": "python",
   "nbconvert_exporter": "python",
   "pygments_lexer": "ipython3",
   "version": "3.8.8"
  },
  "nbpresent": {
   "slides": {},
   "themes": {
    "default": "3f598157-42ac-4f1a-843c-53d9c27620e1",
    "theme": {
     "2311d2dd-49e6-4b32-a6cf-501037b0a4d0": {
      "id": "2311d2dd-49e6-4b32-a6cf-501037b0a4d0",
      "palette": {
       "19cc588f-0593-49c9-9f4b-e4d7cc113b1c": {
        "id": "19cc588f-0593-49c9-9f4b-e4d7cc113b1c",
        "rgb": [
         252,
         252,
         252
        ]
       },
       "31af15d2-7e15-44c5-ab5e-e04b16a89eff": {
        "id": "31af15d2-7e15-44c5-ab5e-e04b16a89eff",
        "rgb": [
         68,
         68,
         68
        ]
       },
       "50f92c45-a630-455b-aec3-788680ec7410": {
        "id": "50f92c45-a630-455b-aec3-788680ec7410",
        "rgb": [
         155,
         177,
         192
        ]
       },
       "c5cc3653-2ee1-402a-aba2-7caae1da4f6c": {
        "id": "c5cc3653-2ee1-402a-aba2-7caae1da4f6c",
        "rgb": [
         43,
         126,
         184
        ]
       },
       "efa7f048-9acb-414c-8b04-a26811511a21": {
        "id": "efa7f048-9acb-414c-8b04-a26811511a21",
        "rgb": [
         25.118061674008803,
         73.60176211453744,
         107.4819383259912
        ]
       }
      },
      "rules": {
       "blockquote": {
        "color": "50f92c45-a630-455b-aec3-788680ec7410"
       },
       "code": {
        "font-family": "Anonymous Pro"
       },
       "h1": {
        "color": "c5cc3653-2ee1-402a-aba2-7caae1da4f6c",
        "font-family": "Lato",
        "font-size": 8
       },
       "h2": {
        "color": "c5cc3653-2ee1-402a-aba2-7caae1da4f6c",
        "font-family": "Lato",
        "font-size": 6
       },
       "h3": {
        "color": "50f92c45-a630-455b-aec3-788680ec7410",
        "font-family": "Lato",
        "font-size": 5.5
       },
       "h4": {
        "color": "c5cc3653-2ee1-402a-aba2-7caae1da4f6c",
        "font-family": "Lato",
        "font-size": 5
       },
       "h5": {
        "font-family": "Lato"
       },
       "h6": {
        "font-family": "Lato"
       },
       "h7": {
        "font-family": "Lato"
       },
       "pre": {
        "font-family": "Anonymous Pro",
        "font-size": 4
       }
      },
      "text-base": {
       "font-family": "Merriweather",
       "font-size": 4
      }
     },
     "3f598157-42ac-4f1a-843c-53d9c27620e1": {
      "id": "3f598157-42ac-4f1a-843c-53d9c27620e1",
      "palette": {
       "19cc588f-0593-49c9-9f4b-e4d7cc113b1c": {
        "id": "19cc588f-0593-49c9-9f4b-e4d7cc113b1c",
        "rgb": [
         252,
         252,
         252
        ]
       },
       "31af15d2-7e15-44c5-ab5e-e04b16a89eff": {
        "id": "31af15d2-7e15-44c5-ab5e-e04b16a89eff",
        "rgb": [
         68,
         68,
         68
        ]
       },
       "50f92c45-a630-455b-aec3-788680ec7410": {
        "id": "50f92c45-a630-455b-aec3-788680ec7410",
        "rgb": [
         155,
         177,
         192
        ]
       },
       "c5cc3653-2ee1-402a-aba2-7caae1da4f6c": {
        "id": "c5cc3653-2ee1-402a-aba2-7caae1da4f6c",
        "rgb": [
         43,
         126,
         184
        ]
       },
       "efa7f048-9acb-414c-8b04-a26811511a21": {
        "id": "efa7f048-9acb-414c-8b04-a26811511a21",
        "rgb": [
         25.118061674008803,
         73.60176211453744,
         107.4819383259912
        ]
       }
      },
      "rules": {
       "blockquote": {
        "color": "50f92c45-a630-455b-aec3-788680ec7410"
       },
       "code": {
        "font-family": "Anonymous Pro"
       },
       "h1": {
        "color": "c5cc3653-2ee1-402a-aba2-7caae1da4f6c",
        "font-family": "Lato",
        "font-size": 8
       },
       "h2": {
        "color": "c5cc3653-2ee1-402a-aba2-7caae1da4f6c",
        "font-family": "Lato",
        "font-size": 6
       },
       "h3": {
        "color": "50f92c45-a630-455b-aec3-788680ec7410",
        "font-family": "Lato",
        "font-size": 5.5
       },
       "h4": {
        "color": "c5cc3653-2ee1-402a-aba2-7caae1da4f6c",
        "font-family": "Lato",
        "font-size": 5
       },
       "h5": {
        "font-family": "Lato"
       },
       "h6": {
        "font-family": "Lato"
       },
       "h7": {
        "font-family": "Lato"
       },
       "pre": {
        "font-family": "Anonymous Pro",
        "font-size": 4
       }
      },
      "text-base": {
       "font-family": "Merriweather",
       "font-size": 4
      }
     }
    }
   }
  }
 },
 "nbformat": 4,
 "nbformat_minor": 1
}
