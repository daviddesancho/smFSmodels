{
 "cells": [
  {
   "cell_type": "markdown",
   "metadata": {},
   "source": [
    "## Run Brownian dynamics in the Schutte potential\n",
    "We use the 6-well one-dimensional potential introduced by Schutte and his co-workers ([*JCP* 2011](https://doi.org/10.1063/1.3590108))"
   ]
  },
  {
   "cell_type": "code",
   "execution_count": 1,
   "metadata": {},
   "outputs": [],
   "source": [
    "import h5py\n",
    "import numpy as np\n",
    "import itertools\n",
    "from scipy.stats import norm\n",
    "import time"
   ]
  },
  {
   "cell_type": "code",
   "execution_count": 2,
   "metadata": {
    "nbpresent": {
     "id": "fd29919c-4d19-4132-b23b-5258df819e89"
    }
   },
   "outputs": [],
   "source": [
    "import matplotlib.pyplot as plt\n",
    "import matplotlib.cm as cm\n",
    "%matplotlib inline\n",
    "%load_ext autoreload\n",
    "%autoreload 2\n",
    "import seaborn as sns\n",
    "sns.set(style=\"ticks\", color_codes=True, font_scale=1.5)\n",
    "sns.set_style({\"xtick.direction\": \"in\", \"ytick.direction\": \"in\"})"
   ]
  },
  {
   "cell_type": "code",
   "execution_count": 3,
   "metadata": {},
   "outputs": [],
   "source": [
    "import sys\n",
    "sys.path.append(\"..\")\n",
    "from smfsmodels import schutte"
   ]
  },
  {
   "cell_type": "code",
   "execution_count": 4,
   "metadata": {},
   "outputs": [],
   "source": [
    "xvals = np.linspace(-1.9,9.9,num=1000)"
   ]
  },
  {
   "cell_type": "code",
   "execution_count": 6,
   "metadata": {
    "scrolled": true
   },
   "outputs": [
    {
     "data": {
      "image/png": "[encoded data removed]",
      "text/plain": [
       "<Figure size 324x288 with 2 Axes>"
      ]
     },
     "metadata": {},
     "output_type": "display_data"
    }
   ],
   "source": [
    "fig, ax = plt.subplots(figsize=(4.5,4))\n",
    "fplot = [schutte.f(y) for y in xvals]\n",
    "ax.plot(xvals, fplot)\n",
    "#fplot = [3*schutte.f(y) for y in x]\n",
    "#ax.plot(x, fplot, 'C2')\n",
    "\n",
    "axt = ax.twinx()\n",
    "dfplot = [schutte.df(y) for y in xvals]\n",
    "axt.plot(xvals, dfplot, color='C1')\n",
    "[ax.axvline(i, 0, 1, lw=0.5, ls='--') \\\n",
    "     for i in range(-1, 11, 2)]\n",
    "axt.axhline(0, -1, 11, color='C1', lw=0.5, ls='--')\n",
    "ax.set_ylim(-0.1, 3)\n",
    "axt.set_ylim(-15,15)\n",
    "ax.set_ylabel('$V(x)$', color='C0')\n",
    "axt.set_ylabel('$\\partial V(x)/\\partial x$', color='C1')\n",
    "ax.set_xlabel('$x$')\n",
    "plt.tight_layout(h_pad=0)"
   ]
  },
  {
   "cell_type": "code",
   "execution_count": 7,
   "metadata": {},
   "outputs": [],
   "source": [
    "def schutte_runner(inp):\n",
    "    np.random.seed()\n",
    "    numsteps = inp[0]\n",
    "    x = inp[1]\n",
    "    dt = inp[2]\n",
    "\n",
    "    tt, xk = schutte.run_brownian(x0=x, dt=dt, \\\n",
    "                    numsteps=numsteps, fwrite=10)\n",
    "    data = np.column_stack((tt,xk))\n",
    "\n",
    "    h5file = \"data/schutte_num%g_dt%g_fwrite10.h5\"%(numsteps, dt)\n",
    "    print (h5file)\n",
    "    with h5py.File(h5file, \"w\") as hf:\n",
    "        hf.create_dataset(\"data\", data=data)\n",
    "    return h5file, tt, xk"
   ]
  },
  {
   "cell_type": "code",
   "execution_count": null,
   "metadata": {},
   "outputs": [],
   "source": [
    "h5file, t, x = schutte_runner([5e8, -1., 1e-4])"
   ]
  },
  {
   "cell_type": "code",
   "execution_count": null,
   "metadata": {},
   "outputs": [],
   "source": [
    "file = h5py.File(h5file, 'r')\n",
    "data = np.array(file['data'])\n",
    "file.close()"
   ]
  },
  {
   "cell_type": "code",
   "execution_count": null,
   "metadata": {},
   "outputs": [],
   "source": [
    "fig, ax = plt.subplots(figsize=(4,4))\n",
    "\n",
    "h, be = np.histogram(x, bins=np.linspace(-2,10,50), density=True)\n",
    "bc = [0.5*(be[i] + be[i+1]) for i in range(len(be)-1)]\n",
    "ax.plot(bc, -np.log(h), label='-ln(P(x))', lw=2)\n",
    "\n",
    "ax.plot(xvals, [4*x for x in fplot], '-', color='k', \\\n",
    "        label=r'$\\beta V(x)$', lw=4, alpha=0.4)\n",
    "\n",
    "ax.set_ylabel('$V(x)$')\n",
    "ax.set_xlabel('$x$')\n",
    "ax.set_ylim(-1,10)\n",
    "ax.legend(loc=1, fontsize=14)\n",
    "\n",
    "plt.tight_layout()"
   ]
  },
  {
   "cell_type": "code",
   "execution_count": null,
   "metadata": {},
   "outputs": [],
   "source": [
    "fig, ax = plt.subplots(2,figsize=(8,4), sharey=True)\n",
    "#fplot = [f(y) for y in x]\n",
    "ax[0].plot(x, lw=0.5)\n",
    "ax[1].plot(x, lw=0.5)\n",
    "ax[0].set_xlim(0,len(x))\n",
    "ax[1].set_xlim(10e5,15e5)\n",
    "[[ax[j].axhline(i, 0, 1, lw=0.5, ls='--') \\\n",
    "  for i in range(-1, 11, 2)] for j in range(2)]\n",
    "ax[0].set_ylabel('x')\n",
    "ax[1].set_ylabel('x')\n",
    "ax[1].set_xlabel('time (frames)')\n",
    "\n",
    "plt.tight_layout()"
   ]
  },
  {
   "cell_type": "code",
   "execution_count": null,
   "metadata": {},
   "outputs": [],
   "source": []
  }
 ],
 "metadata": {
  "anaconda-cloud": {},
  "kernelspec": {
   "display_name": "Python 3",
   "language": "python",
   "name": "python3"
  },
  "language_info": {
   "codemirror_mode": {
    "name": "ipython",
    "version": 3
   },
   "file_extension": ".py",
   "mimetype": "text/x-python",
   "name": "python",
   "nbconvert_exporter": "python",
   "pygments_lexer": "ipython3",
   "version": "3.8.8"
  },
  "nbpresent": {
   "slides": {},
   "themes": {
    "default": "3f598157-42ac-4f1a-843c-53d9c27620e1",
    "theme": {
     "2311d2dd-49e6-4b32-a6cf-501037b0a4d0": {
      "id": "2311d2dd-49e6-4b32-a6cf-501037b0a4d0",
      "palette": {
       "19cc588f-0593-49c9-9f4b-e4d7cc113b1c": {
        "id": "19cc588f-0593-49c9-9f4b-e4d7cc113b1c",
        "rgb": [
         252,
         252,
         252
        ]
       },
       "31af15d2-7e15-44c5-ab5e-e04b16a89eff": {
        "id": "31af15d2-7e15-44c5-ab5e-e04b16a89eff",
        "rgb": [
         68,
         68,
         68
        ]
       },
       "50f92c45-a630-455b-aec3-788680ec7410": {
        "id": "50f92c45-a630-455b-aec3-788680ec7410",
        "rgb": [
         155,
         177,
         192
        ]
       },
       "c5cc3653-2ee1-402a-aba2-7caae1da4f6c": {
        "id": "c5cc3653-2ee1-402a-aba2-7caae1da4f6c",
        "rgb": [
         43,
         126,
         184
        ]
       },
       "efa7f048-9acb-414c-8b04-a26811511a21": {
        "id": "efa7f048-9acb-414c-8b04-a26811511a21",
        "rgb": [
         25.118061674008803,
         73.60176211453744,
         107.4819383259912
        ]
       }
      },
      "rules": {
       "blockquote": {
        "color": "50f92c45-a630-455b-aec3-788680ec7410"
       },
       "code": {
        "font-family": "Anonymous Pro"
       },
       "h1": {
        "color": "c5cc3653-2ee1-402a-aba2-7caae1da4f6c",
        "font-family": "Lato",
        "font-size": 8
       },
       "h2": {
        "color": "c5cc3653-2ee1-402a-aba2-7caae1da4f6c",
        "font-family": "Lato",
        "font-size": 6
       },
       "h3": {
        "color": "50f92c45-a630-455b-aec3-788680ec7410",
        "font-family": "Lato",
        "font-size": 5.5
       },
       "h4": {
        "color": "c5cc3653-2ee1-402a-aba2-7caae1da4f6c",
        "font-family": "Lato",
        "font-size": 5
       },
       "h5": {
        "font-family": "Lato"
       },
       "h6": {
        "font-family": "Lato"
       },
       "h7": {
        "font-family": "Lato"
       },
       "pre": {
        "font-family": "Anonymous Pro",
        "font-size": 4
       }
      },
      "text-base": {
       "font-family": "Merriweather",
       "font-size": 4
      }
     },
     "3f598157-42ac-4f1a-843c-53d9c27620e1": {
      "id": "3f598157-42ac-4f1a-843c-53d9c27620e1",
      "palette": {
       "19cc588f-0593-49c9-9f4b-e4d7cc113b1c": {
        "id": "19cc588f-0593-49c9-9f4b-e4d7cc113b1c",
        "rgb": [
         252,
         252,
         252
        ]
       },
       "31af15d2-7e15-44c5-ab5e-e04b16a89eff": {
        "id": "31af15d2-7e15-44c5-ab5e-e04b16a89eff",
        "rgb": [
         68,
         68,
         68
        ]
       },
       "50f92c45-a630-455b-aec3-788680ec7410": {
        "id": "50f92c45-a630-455b-aec3-788680ec7410",
        "rgb": [
         155,
         177,
         192
        ]
       },
       "c5cc3653-2ee1-402a-aba2-7caae1da4f6c": {
        "id": "c5cc3653-2ee1-402a-aba2-7caae1da4f6c",
        "rgb": [
         43,
         126,
         184
        ]
       },
       "efa7f048-9acb-414c-8b04-a26811511a21": {
        "id": "efa7f048-9acb-414c-8b04-a26811511a21",
        "rgb": [
         25.118061674008803,
         73.60176211453744,
         107.4819383259912
        ]
       }
      },
      "rules": {
       "blockquote": {
        "color": "50f92c45-a630-455b-aec3-788680ec7410"
       },
       "code": {
        "font-family": "Anonymous Pro"
       },
       "h1": {
        "color": "c5cc3653-2ee1-402a-aba2-7caae1da4f6c",
        "font-family": "Lato",
        "font-size": 8
       },
       "h2": {
        "color": "c5cc3653-2ee1-402a-aba2-7caae1da4f6c",
        "font-family": "Lato",
        "font-size": 6
       },
       "h3": {
        "color": "50f92c45-a630-455b-aec3-788680ec7410",
        "font-family": "Lato",
        "font-size": 5.5
       },
       "h4": {
        "color": "c5cc3653-2ee1-402a-aba2-7caae1da4f6c",
        "font-family": "Lato",
        "font-size": 5
       },
       "h5": {
        "font-family": "Lato"
       },
       "h6": {
        "font-family": "Lato"
       },
       "h7": {
        "font-family": "Lato"
       },
       "pre": {
        "font-family": "Anonymous Pro",
        "font-size": 4
       }
      },
      "text-base": {
       "font-family": "Merriweather",
       "font-size": 4
      }
     }
    }
   }
  }
 },
 "nbformat": 4,
 "nbformat_minor": 1
}
